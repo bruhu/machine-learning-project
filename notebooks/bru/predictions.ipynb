{
 "cells": [
  {
   "cell_type": "code",
   "execution_count": 1,
   "metadata": {},
   "outputs": [],
   "source": [
    "import pandas as pd\n",
    "from sklearn.model_selection import train_test_split, cross_val_score\n",
    "from sklearn.preprocessing import StandardScaler, OneHotEncoder\n",
    "from sklearn.compose import ColumnTransformer\n",
    "from sklearn.pipeline import Pipeline\n",
    "from sklearn.impute import SimpleImputer\n",
    "from sklearn.ensemble import RandomForestRegressor\n",
    "from sklearn.metrics import mean_absolute_error, r2_score"
   ]
  },
  {
   "cell_type": "code",
   "execution_count": 2,
   "metadata": {},
   "outputs": [
    {
     "name": "stdout",
     "output_type": "stream",
     "text": [
      "Unnamed: 0                int64\n",
      "airline_name             object\n",
      "flight_code              object\n",
      "departure_city           object\n",
      "arrival_city             object\n",
      "flight_duration          object\n",
      "stops                     int64\n",
      "price                     int64\n",
      "class                    object\n",
      "days_left               float64\n",
      "departure_time_group     object\n",
      "arrival_time_group       object\n",
      "flight_date              object\n",
      "departure_time           object\n",
      "arrival_time             object\n",
      "dtype: object\n"
     ]
    }
   ],
   "source": [
    "df = pd.read_csv('../../data/clean/clean_combined.csv')\n",
    "\n",
    "print(df.dtypes)"
   ]
  },
  {
   "cell_type": "code",
   "execution_count": 3,
   "metadata": {},
   "outputs": [],
   "source": [
    "# Separate the dataset into economy and business\n",
    "df_economy = df[df['class'] == 'Economy']\n",
    "df_business = df[df['class'] == 'Business']\n"
   ]
  },
  {
   "cell_type": "code",
   "execution_count": 4,
   "metadata": {},
   "outputs": [
    {
     "name": "stdout",
     "output_type": "stream",
     "text": [
      "Rows in economy class: 206567\n",
      "Rows in business class: 93487\n"
     ]
    }
   ],
   "source": [
    "print(f\"Rows in economy class: {df_economy.shape[0]}\")\n",
    "print(f\"Rows in business class: {df_business.shape[0]}\")"
   ]
  },
  {
   "cell_type": "code",
   "execution_count": 5,
   "metadata": {},
   "outputs": [
    {
     "name": "stderr",
     "output_type": "stream",
     "text": [
      "/tmp/ipykernel_67111/793537498.py:4: SettingWithCopyWarning: \n",
      "A value is trying to be set on a copy of a slice from a DataFrame.\n",
      "Try using .loc[row_indexer,col_indexer] = value instead\n",
      "\n",
      "See the caveats in the documentation: https://pandas.pydata.org/pandas-docs/stable/user_guide/indexing.html#returning-a-view-versus-a-copy\n",
      "  df['flight_date'] = pd.to_datetime(df['flight_date'], errors='coerce')\n",
      "/tmp/ipykernel_67111/793537498.py:5: UserWarning: Could not infer format, so each element will be parsed individually, falling back to `dateutil`. To ensure parsing is consistent and as-expected, please specify a format.\n",
      "  df['departure_time'] = pd.to_datetime(df['departure_time'], errors='coerce')\n",
      "/tmp/ipykernel_67111/793537498.py:5: SettingWithCopyWarning: \n",
      "A value is trying to be set on a copy of a slice from a DataFrame.\n",
      "Try using .loc[row_indexer,col_indexer] = value instead\n",
      "\n",
      "See the caveats in the documentation: https://pandas.pydata.org/pandas-docs/stable/user_guide/indexing.html#returning-a-view-versus-a-copy\n",
      "  df['departure_time'] = pd.to_datetime(df['departure_time'], errors='coerce')\n",
      "/tmp/ipykernel_67111/793537498.py:6: UserWarning: Could not infer format, so each element will be parsed individually, falling back to `dateutil`. To ensure parsing is consistent and as-expected, please specify a format.\n",
      "  df['arrival_time'] = pd.to_datetime(df['arrival_time'], errors='coerce')\n",
      "/tmp/ipykernel_67111/793537498.py:6: SettingWithCopyWarning: \n",
      "A value is trying to be set on a copy of a slice from a DataFrame.\n",
      "Try using .loc[row_indexer,col_indexer] = value instead\n",
      "\n",
      "See the caveats in the documentation: https://pandas.pydata.org/pandas-docs/stable/user_guide/indexing.html#returning-a-view-versus-a-copy\n",
      "  df['arrival_time'] = pd.to_datetime(df['arrival_time'], errors='coerce')\n",
      "/tmp/ipykernel_67111/793537498.py:9: SettingWithCopyWarning: \n",
      "A value is trying to be set on a copy of a slice from a DataFrame.\n",
      "Try using .loc[row_indexer,col_indexer] = value instead\n",
      "\n",
      "See the caveats in the documentation: https://pandas.pydata.org/pandas-docs/stable/user_guide/indexing.html#returning-a-view-versus-a-copy\n",
      "  df['flight_date'] = df['flight_date'].fillna(pd.Timestamp('2024-01-01'))\n",
      "/tmp/ipykernel_67111/793537498.py:10: SettingWithCopyWarning: \n",
      "A value is trying to be set on a copy of a slice from a DataFrame.\n",
      "Try using .loc[row_indexer,col_indexer] = value instead\n",
      "\n",
      "See the caveats in the documentation: https://pandas.pydata.org/pandas-docs/stable/user_guide/indexing.html#returning-a-view-versus-a-copy\n",
      "  df['departure_time'] = df['departure_time'].fillna(pd.Timestamp('2024-01-01 00:00:00'))\n",
      "/tmp/ipykernel_67111/793537498.py:11: SettingWithCopyWarning: \n",
      "A value is trying to be set on a copy of a slice from a DataFrame.\n",
      "Try using .loc[row_indexer,col_indexer] = value instead\n",
      "\n",
      "See the caveats in the documentation: https://pandas.pydata.org/pandas-docs/stable/user_guide/indexing.html#returning-a-view-versus-a-copy\n",
      "  df['arrival_time'] = df['arrival_time'].fillna(pd.Timestamp('2024-01-01 00:00:00'))\n",
      "/tmp/ipykernel_67111/793537498.py:14: SettingWithCopyWarning: \n",
      "A value is trying to be set on a copy of a slice from a DataFrame.\n",
      "Try using .loc[row_indexer,col_indexer] = value instead\n",
      "\n",
      "See the caveats in the documentation: https://pandas.pydata.org/pandas-docs/stable/user_guide/indexing.html#returning-a-view-versus-a-copy\n",
      "  df['departure_hour'] = df['departure_time'].dt.hour\n",
      "/tmp/ipykernel_67111/793537498.py:15: SettingWithCopyWarning: \n",
      "A value is trying to be set on a copy of a slice from a DataFrame.\n",
      "Try using .loc[row_indexer,col_indexer] = value instead\n",
      "\n",
      "See the caveats in the documentation: https://pandas.pydata.org/pandas-docs/stable/user_guide/indexing.html#returning-a-view-versus-a-copy\n",
      "  df['arrival_hour'] = df['arrival_time'].dt.hour\n",
      "/tmp/ipykernel_67111/793537498.py:16: SettingWithCopyWarning: \n",
      "A value is trying to be set on a copy of a slice from a DataFrame.\n",
      "Try using .loc[row_indexer,col_indexer] = value instead\n",
      "\n",
      "See the caveats in the documentation: https://pandas.pydata.org/pandas-docs/stable/user_guide/indexing.html#returning-a-view-versus-a-copy\n",
      "  df['day_of_week'] = df['flight_date'].dt.dayofweek\n",
      "/tmp/ipykernel_67111/793537498.py:4: SettingWithCopyWarning: \n",
      "A value is trying to be set on a copy of a slice from a DataFrame.\n",
      "Try using .loc[row_indexer,col_indexer] = value instead\n",
      "\n",
      "See the caveats in the documentation: https://pandas.pydata.org/pandas-docs/stable/user_guide/indexing.html#returning-a-view-versus-a-copy\n",
      "  df['flight_date'] = pd.to_datetime(df['flight_date'], errors='coerce')\n",
      "/tmp/ipykernel_67111/793537498.py:5: UserWarning: Could not infer format, so each element will be parsed individually, falling back to `dateutil`. To ensure parsing is consistent and as-expected, please specify a format.\n",
      "  df['departure_time'] = pd.to_datetime(df['departure_time'], errors='coerce')\n",
      "/tmp/ipykernel_67111/793537498.py:5: SettingWithCopyWarning: \n",
      "A value is trying to be set on a copy of a slice from a DataFrame.\n",
      "Try using .loc[row_indexer,col_indexer] = value instead\n",
      "\n",
      "See the caveats in the documentation: https://pandas.pydata.org/pandas-docs/stable/user_guide/indexing.html#returning-a-view-versus-a-copy\n",
      "  df['departure_time'] = pd.to_datetime(df['departure_time'], errors='coerce')\n",
      "/tmp/ipykernel_67111/793537498.py:6: UserWarning: Could not infer format, so each element will be parsed individually, falling back to `dateutil`. To ensure parsing is consistent and as-expected, please specify a format.\n",
      "  df['arrival_time'] = pd.to_datetime(df['arrival_time'], errors='coerce')\n",
      "/tmp/ipykernel_67111/793537498.py:6: SettingWithCopyWarning: \n",
      "A value is trying to be set on a copy of a slice from a DataFrame.\n",
      "Try using .loc[row_indexer,col_indexer] = value instead\n",
      "\n",
      "See the caveats in the documentation: https://pandas.pydata.org/pandas-docs/stable/user_guide/indexing.html#returning-a-view-versus-a-copy\n",
      "  df['arrival_time'] = pd.to_datetime(df['arrival_time'], errors='coerce')\n",
      "/tmp/ipykernel_67111/793537498.py:9: SettingWithCopyWarning: \n",
      "A value is trying to be set on a copy of a slice from a DataFrame.\n",
      "Try using .loc[row_indexer,col_indexer] = value instead\n",
      "\n",
      "See the caveats in the documentation: https://pandas.pydata.org/pandas-docs/stable/user_guide/indexing.html#returning-a-view-versus-a-copy\n",
      "  df['flight_date'] = df['flight_date'].fillna(pd.Timestamp('2024-01-01'))\n",
      "/tmp/ipykernel_67111/793537498.py:10: SettingWithCopyWarning: \n",
      "A value is trying to be set on a copy of a slice from a DataFrame.\n",
      "Try using .loc[row_indexer,col_indexer] = value instead\n",
      "\n",
      "See the caveats in the documentation: https://pandas.pydata.org/pandas-docs/stable/user_guide/indexing.html#returning-a-view-versus-a-copy\n",
      "  df['departure_time'] = df['departure_time'].fillna(pd.Timestamp('2024-01-01 00:00:00'))\n",
      "/tmp/ipykernel_67111/793537498.py:11: SettingWithCopyWarning: \n",
      "A value is trying to be set on a copy of a slice from a DataFrame.\n",
      "Try using .loc[row_indexer,col_indexer] = value instead\n",
      "\n",
      "See the caveats in the documentation: https://pandas.pydata.org/pandas-docs/stable/user_guide/indexing.html#returning-a-view-versus-a-copy\n",
      "  df['arrival_time'] = df['arrival_time'].fillna(pd.Timestamp('2024-01-01 00:00:00'))\n",
      "/tmp/ipykernel_67111/793537498.py:14: SettingWithCopyWarning: \n",
      "A value is trying to be set on a copy of a slice from a DataFrame.\n",
      "Try using .loc[row_indexer,col_indexer] = value instead\n",
      "\n",
      "See the caveats in the documentation: https://pandas.pydata.org/pandas-docs/stable/user_guide/indexing.html#returning-a-view-versus-a-copy\n",
      "  df['departure_hour'] = df['departure_time'].dt.hour\n",
      "/tmp/ipykernel_67111/793537498.py:15: SettingWithCopyWarning: \n",
      "A value is trying to be set on a copy of a slice from a DataFrame.\n",
      "Try using .loc[row_indexer,col_indexer] = value instead\n",
      "\n",
      "See the caveats in the documentation: https://pandas.pydata.org/pandas-docs/stable/user_guide/indexing.html#returning-a-view-versus-a-copy\n",
      "  df['arrival_hour'] = df['arrival_time'].dt.hour\n",
      "/tmp/ipykernel_67111/793537498.py:16: SettingWithCopyWarning: \n",
      "A value is trying to be set on a copy of a slice from a DataFrame.\n",
      "Try using .loc[row_indexer,col_indexer] = value instead\n",
      "\n",
      "See the caveats in the documentation: https://pandas.pydata.org/pandas-docs/stable/user_guide/indexing.html#returning-a-view-versus-a-copy\n",
      "  df['day_of_week'] = df['flight_date'].dt.dayofweek\n"
     ]
    }
   ],
   "source": [
    "# Define a function to preprocess the data\n",
    "def preprocess_data(df):\n",
    "    # Handle datetime columns\n",
    "    df['flight_date'] = pd.to_datetime(df['flight_date'], errors='coerce')\n",
    "    df['departure_time'] = pd.to_datetime(df['departure_time'], errors='coerce')\n",
    "    df['arrival_time'] = pd.to_datetime(df['arrival_time'], errors='coerce')\n",
    "    \n",
    "    # Check for missing values in datetime columns and handle them\n",
    "    df['flight_date'] = df['flight_date'].fillna(pd.Timestamp('2024-01-01'))\n",
    "    df['departure_time'] = df['departure_time'].fillna(pd.Timestamp('2024-01-01 00:00:00'))\n",
    "    df['arrival_time'] = df['arrival_time'].fillna(pd.Timestamp('2024-01-01 00:00:00'))\n",
    "    \n",
    "    # Extract useful features from the datetime columns (e.g., hour, day, etc.)\n",
    "    df['departure_hour'] = df['departure_time'].dt.hour\n",
    "    df['arrival_hour'] = df['arrival_time'].dt.hour\n",
    "    df['day_of_week'] = df['flight_date'].dt.dayofweek\n",
    "    \n",
    "    # Drop original datetime columns to avoid redundancy\n",
    "    df = df.drop(['departure_time', 'arrival_time', 'flight_date'], axis=1)\n",
    "    \n",
    "    # Drop 'Unnamed: 0' as it's just an index column (check if it's present)\n",
    "    if 'Unnamed: 0' in df.columns:\n",
    "        df = df.drop('Unnamed: 0', axis=1)\n",
    "    \n",
    "    return df\n",
    "\n",
    "# Preprocess both datasets\n",
    "df_economy = preprocess_data(df_economy)\n",
    "df_business = preprocess_data(df_business)\n",
    "\n",
    "# Now let's set up the feature columns (X) and target column (y)\n",
    "X_economy = df_economy.drop('price', axis=1)\n",
    "y_economy = df_economy['price']\n",
    "\n",
    "X_business = df_business.drop('price', axis=1)\n",
    "y_business = df_business['price']\n"
   ]
  },
  {
   "cell_type": "code",
   "execution_count": 6,
   "metadata": {},
   "outputs": [],
   "source": [
    "if df_economy.empty:\n",
    "    print(\"No economy class data available.\")\n",
    "else:\n",
    "    # Proceed with train/test split for economy class\n",
    "    X_economy = df_economy.drop('price', axis=1)\n",
    "    y_economy = df_economy['price']\n",
    "    X_train_economy, X_test_economy, y_train_economy, y_test_economy = train_test_split(X_economy, y_economy, test_size=0.2, random_state=42)\n",
    "\n",
    "if df_business.empty:\n",
    "    print(\"No business class data available.\")\n",
    "else:\n",
    "    # Proceed with train/test split for business class\n",
    "    X_business = df_business.drop('price', axis=1)\n",
    "    y_business = df_business['price']\n",
    "    X_train_business, X_test_business, y_train_business, y_test_business = train_test_split(X_business, y_business, test_size=0.2, random_state=42)\n"
   ]
  },
  {
   "cell_type": "code",
   "execution_count": 7,
   "metadata": {},
   "outputs": [],
   "source": [
    "# Make sure to define these features before using them in the transformer\n",
    "numerical_features = X_economy.select_dtypes(include=['int64', 'float64']).columns\n",
    "categorical_features = X_economy.select_dtypes(include=['object']).columns\n",
    "\n",
    "\n",
    "# Create transformers for numerical and categorical columns\n",
    "numerical_transformer = Pipeline(steps=[\n",
    "    ('imputer', SimpleImputer(strategy='mean')),  # Handle missing values\n",
    "    ('scaler', StandardScaler())  # Scale numerical features\n",
    "])\n",
    "\n",
    "categorical_transformer = Pipeline(steps=[\n",
    "    ('imputer', SimpleImputer(strategy='constant', fill_value='missing')),  # Handle missing values\n",
    "    ('encoder', OneHotEncoder(handle_unknown='ignore'))  # One-hot encode categorical features\n",
    "])\n",
    "\n",
    "# Combine transformers in a ColumnTransformer\n",
    "preprocessor = ColumnTransformer(\n",
    "    transformers=[\n",
    "        ('num', numerical_transformer, numerical_features),\n",
    "        ('cat', categorical_transformer, categorical_features)\n",
    "    ]\n",
    ")"
   ]
  },
  {
   "cell_type": "code",
   "execution_count": 8,
   "metadata": {},
   "outputs": [],
   "source": [
    "n_estimators = 10\n",
    "\n",
    "# Define the model pipeline (RandomForestRegressor)\n",
    "model_economy = Pipeline(steps=[\n",
    "    ('preprocessor', preprocessor),\n",
    "    ('regressor', RandomForestRegressor(n_estimators=n_estimators, max_depth=10, random_state=42, n_jobs=-1))  # Parallelize with n_jobs\n",
    "])\n",
    "\n",
    "model_business = Pipeline(steps=[\n",
    "    ('preprocessor', preprocessor),\n",
    "    ('regressor', RandomForestRegressor(n_estimators=n_estimators, max_depth=10, random_state=42, n_jobs=-1))  # Parallelize with n_jobs\n",
    "])"
   ]
  },
  {
   "cell_type": "code",
   "execution_count": 9,
   "metadata": {},
   "outputs": [
    {
     "name": "stdout",
     "output_type": "stream",
     "text": [
      "Mean Absolute Error for Economy Class: 1820.475922027355\n"
     ]
    }
   ],
   "source": [
    "# Fit the models\n",
    "model_economy.fit(X_train_economy, y_train_economy)\n",
    "\n",
    "# Predict on the test data\n",
    "y_pred_economy = model_economy.predict(X_test_economy)\n",
    "\n",
    "# Evaluate the models (using Mean Absolute Error)\n",
    "mae_economy = mean_absolute_error(y_test_economy, y_pred_economy)\n",
    "\n",
    "print(f'Mean Absolute Error for Economy Class: {mae_economy}')"
   ]
  },
  {
   "cell_type": "code",
   "execution_count": 10,
   "metadata": {},
   "outputs": [
    {
     "name": "stdout",
     "output_type": "stream",
     "text": [
      "Mean Absolute Error for Business Class: 4665.124922956034\n"
     ]
    }
   ],
   "source": [
    "# Fit the models\n",
    "model_business.fit(X_train_business, y_train_business)\n",
    "\n",
    "# Predict on the test data\n",
    "y_pred_business = model_business.predict(X_test_business)\n",
    "\n",
    "# Evaluate the models (using Mean Absolute Error)\n",
    "mae_business = mean_absolute_error(y_test_business, y_pred_business)\n",
    "\n",
    "print(f'Mean Absolute Error for Business Class: {mae_business}')\n"
   ]
  },
  {
   "cell_type": "code",
   "execution_count": 11,
   "metadata": {},
   "outputs": [
    {
     "name": "stdout",
     "output_type": "stream",
     "text": [
      "Cross-validation accuracy for Economy Class: 0.32788754266625136\n",
      "Cross-validation accuracy for Business Class: 0.327964739688304\n"
     ]
    }
   ],
   "source": [
    "# Optionally: Cross-validation (5-fold) for both models\n",
    "cv_scores_economy = cross_val_score(model_economy, X_economy, y_economy, cv=5)\n",
    "cv_scores_business = cross_val_score(model_business, X_business, y_business, cv=5)\n",
    "\n",
    "print(f'Cross-validation accuracy for Economy Class: {cv_scores_economy.mean()}')\n",
    "print(f'Cross-validation accuracy for Business Class: {cv_scores_business.mean()}')"
   ]
  }
 ],
 "metadata": {
  "kernelspec": {
   "display_name": "base",
   "language": "python",
   "name": "python3"
  },
  "language_info": {
   "codemirror_mode": {
    "name": "ipython",
    "version": 3
   },
   "file_extension": ".py",
   "mimetype": "text/x-python",
   "name": "python",
   "nbconvert_exporter": "python",
   "pygments_lexer": "ipython3",
   "version": "3.12.2"
  }
 },
 "nbformat": 4,
 "nbformat_minor": 2
}
