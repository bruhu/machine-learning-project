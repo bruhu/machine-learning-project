{
 "cells": [
  {
   "cell_type": "markdown",
   "metadata": {},
   "source": [
    "Ensemble Methods for `clean_business_df` and `clean_economy_df`\n",
    "- Bagging and Pasting\n",
    "- Random Forest"
   ]
  },
  {
   "cell_type": "code",
   "execution_count": 1,
   "metadata": {},
   "outputs": [],
   "source": [
    "import pandas as pd\n",
    "from scipy import stats\n",
    "import numpy as np\n",
    "import matplotlib.pyplot as plt\n",
    "import seaborn as sns\n",
    "from sklearn.model_selection import train_test_split, cross_val_score\n",
    "from sklearn.metrics import mean_absolute_error, mean_squared_error, r2_score\n",
    "from sklearn.preprocessing import LabelEncoder\n",
    "from sklearn.ensemble import BaggingRegressor\n",
    "from sklearn.tree import DecisionTreeRegressor"
   ]
  },
  {
   "cell_type": "code",
   "execution_count": 2,
   "metadata": {},
   "outputs": [],
   "source": [
    "business_df = pd.read_csv('../../data/clean/clean_business_df.csv')\n",
    "economy_df = pd.read_csv('../../data/clean/clean_economy_df.csv')"
   ]
  },
  {
   "cell_type": "code",
   "execution_count": 3,
   "metadata": {},
   "outputs": [
    {
     "data": {
      "text/html": [
       "<div>\n",
       "<style scoped>\n",
       "    .dataframe tbody tr th:only-of-type {\n",
       "        vertical-align: middle;\n",
       "    }\n",
       "\n",
       "    .dataframe tbody tr th {\n",
       "        vertical-align: top;\n",
       "    }\n",
       "\n",
       "    .dataframe thead th {\n",
       "        text-align: right;\n",
       "    }\n",
       "</style>\n",
       "<table border=\"1\" class=\"dataframe\">\n",
       "  <thead>\n",
       "    <tr style=\"text-align: right;\">\n",
       "      <th></th>\n",
       "      <th>flight_date</th>\n",
       "      <th>airline_name</th>\n",
       "      <th>flight_code</th>\n",
       "      <th>departure_time</th>\n",
       "      <th>departure_city</th>\n",
       "      <th>arrival_time</th>\n",
       "      <th>arrival_city</th>\n",
       "      <th>flight_duration</th>\n",
       "      <th>stops</th>\n",
       "      <th>price</th>\n",
       "      <th>departure_time_group</th>\n",
       "      <th>arrival_time_group</th>\n",
       "    </tr>\n",
       "  </thead>\n",
       "  <tbody>\n",
       "    <tr>\n",
       "      <th>0</th>\n",
       "      <td>2022-02-11</td>\n",
       "      <td>Air India</td>\n",
       "      <td>AI-868</td>\n",
       "      <td>18:00</td>\n",
       "      <td>Delhi</td>\n",
       "      <td>20:00</td>\n",
       "      <td>Mumbai</td>\n",
       "      <td>120</td>\n",
       "      <td>0</td>\n",
       "      <td>25612</td>\n",
       "      <td>Evening</td>\n",
       "      <td>Evening</td>\n",
       "    </tr>\n",
       "    <tr>\n",
       "      <th>1</th>\n",
       "      <td>2022-02-11</td>\n",
       "      <td>Air India</td>\n",
       "      <td>AI-624</td>\n",
       "      <td>19:00</td>\n",
       "      <td>Delhi</td>\n",
       "      <td>21:15</td>\n",
       "      <td>Mumbai</td>\n",
       "      <td>135</td>\n",
       "      <td>0</td>\n",
       "      <td>25612</td>\n",
       "      <td>Evening</td>\n",
       "      <td>Night</td>\n",
       "    </tr>\n",
       "    <tr>\n",
       "      <th>2</th>\n",
       "      <td>2022-02-11</td>\n",
       "      <td>Air India</td>\n",
       "      <td>AI-531</td>\n",
       "      <td>20:00</td>\n",
       "      <td>Delhi</td>\n",
       "      <td>20:45</td>\n",
       "      <td>Mumbai</td>\n",
       "      <td>1485</td>\n",
       "      <td>1</td>\n",
       "      <td>42220</td>\n",
       "      <td>Evening</td>\n",
       "      <td>Evening</td>\n",
       "    </tr>\n",
       "    <tr>\n",
       "      <th>3</th>\n",
       "      <td>2022-02-11</td>\n",
       "      <td>Air India</td>\n",
       "      <td>AI-839</td>\n",
       "      <td>21:25</td>\n",
       "      <td>Delhi</td>\n",
       "      <td>23:55</td>\n",
       "      <td>Mumbai</td>\n",
       "      <td>1590</td>\n",
       "      <td>1</td>\n",
       "      <td>44450</td>\n",
       "      <td>Night</td>\n",
       "      <td>Night</td>\n",
       "    </tr>\n",
       "    <tr>\n",
       "      <th>4</th>\n",
       "      <td>2022-02-11</td>\n",
       "      <td>Air India</td>\n",
       "      <td>AI-544</td>\n",
       "      <td>17:15</td>\n",
       "      <td>Delhi</td>\n",
       "      <td>23:55</td>\n",
       "      <td>Mumbai</td>\n",
       "      <td>400</td>\n",
       "      <td>1</td>\n",
       "      <td>46690</td>\n",
       "      <td>Afternoon</td>\n",
       "      <td>Night</td>\n",
       "    </tr>\n",
       "  </tbody>\n",
       "</table>\n",
       "</div>"
      ],
      "text/plain": [
       "  flight_date airline_name flight_code departure_time departure_city  \\\n",
       "0  2022-02-11    Air India      AI-868          18:00          Delhi   \n",
       "1  2022-02-11    Air India      AI-624          19:00          Delhi   \n",
       "2  2022-02-11    Air India      AI-531          20:00          Delhi   \n",
       "3  2022-02-11    Air India      AI-839          21:25          Delhi   \n",
       "4  2022-02-11    Air India      AI-544          17:15          Delhi   \n",
       "\n",
       "  arrival_time arrival_city  flight_duration  stops  price  \\\n",
       "0        20:00       Mumbai              120      0  25612   \n",
       "1        21:15       Mumbai              135      0  25612   \n",
       "2        20:45       Mumbai             1485      1  42220   \n",
       "3        23:55       Mumbai             1590      1  44450   \n",
       "4        23:55       Mumbai              400      1  46690   \n",
       "\n",
       "  departure_time_group arrival_time_group  \n",
       "0              Evening            Evening  \n",
       "1              Evening              Night  \n",
       "2              Evening            Evening  \n",
       "3                Night              Night  \n",
       "4            Afternoon              Night  "
      ]
     },
     "execution_count": 3,
     "metadata": {},
     "output_type": "execute_result"
    }
   ],
   "source": [
    "business_df.head()"
   ]
  },
  {
   "cell_type": "code",
   "execution_count": 4,
   "metadata": {},
   "outputs": [
    {
     "data": {
      "text/html": [
       "<div>\n",
       "<style scoped>\n",
       "    .dataframe tbody tr th:only-of-type {\n",
       "        vertical-align: middle;\n",
       "    }\n",
       "\n",
       "    .dataframe tbody tr th {\n",
       "        vertical-align: top;\n",
       "    }\n",
       "\n",
       "    .dataframe thead th {\n",
       "        text-align: right;\n",
       "    }\n",
       "</style>\n",
       "<table border=\"1\" class=\"dataframe\">\n",
       "  <thead>\n",
       "    <tr style=\"text-align: right;\">\n",
       "      <th></th>\n",
       "      <th>flight_date</th>\n",
       "      <th>airline_name</th>\n",
       "      <th>flight_code</th>\n",
       "      <th>departure_time</th>\n",
       "      <th>departure_city</th>\n",
       "      <th>arrival_time</th>\n",
       "      <th>arrival_city</th>\n",
       "      <th>flight_duration</th>\n",
       "      <th>stops</th>\n",
       "      <th>price</th>\n",
       "      <th>departure_time_group</th>\n",
       "      <th>arrival_time_group</th>\n",
       "    </tr>\n",
       "  </thead>\n",
       "  <tbody>\n",
       "    <tr>\n",
       "      <th>0</th>\n",
       "      <td>2022-02-11</td>\n",
       "      <td>SpiceJet</td>\n",
       "      <td>SG-8709</td>\n",
       "      <td>18:55</td>\n",
       "      <td>Delhi</td>\n",
       "      <td>21:05</td>\n",
       "      <td>Mumbai</td>\n",
       "      <td>130</td>\n",
       "      <td>0</td>\n",
       "      <td>5953</td>\n",
       "      <td>Evening</td>\n",
       "      <td>Night</td>\n",
       "    </tr>\n",
       "    <tr>\n",
       "      <th>1</th>\n",
       "      <td>2022-02-11</td>\n",
       "      <td>SpiceJet</td>\n",
       "      <td>SG-8157</td>\n",
       "      <td>06:20</td>\n",
       "      <td>Delhi</td>\n",
       "      <td>08:40</td>\n",
       "      <td>Mumbai</td>\n",
       "      <td>140</td>\n",
       "      <td>0</td>\n",
       "      <td>5953</td>\n",
       "      <td>Morning</td>\n",
       "      <td>Morning</td>\n",
       "    </tr>\n",
       "    <tr>\n",
       "      <th>2</th>\n",
       "      <td>2022-02-11</td>\n",
       "      <td>Air Asia</td>\n",
       "      <td>I5-764</td>\n",
       "      <td>04:25</td>\n",
       "      <td>Delhi</td>\n",
       "      <td>06:35</td>\n",
       "      <td>Mumbai</td>\n",
       "      <td>130</td>\n",
       "      <td>0</td>\n",
       "      <td>5956</td>\n",
       "      <td>Early Morning</td>\n",
       "      <td>Morning</td>\n",
       "    </tr>\n",
       "    <tr>\n",
       "      <th>3</th>\n",
       "      <td>2022-02-11</td>\n",
       "      <td>Vistara</td>\n",
       "      <td>UK-995</td>\n",
       "      <td>10:20</td>\n",
       "      <td>Delhi</td>\n",
       "      <td>12:35</td>\n",
       "      <td>Mumbai</td>\n",
       "      <td>135</td>\n",
       "      <td>0</td>\n",
       "      <td>5955</td>\n",
       "      <td>Morning</td>\n",
       "      <td>Afternoon</td>\n",
       "    </tr>\n",
       "    <tr>\n",
       "      <th>4</th>\n",
       "      <td>2022-02-11</td>\n",
       "      <td>Vistara</td>\n",
       "      <td>UK-963</td>\n",
       "      <td>08:50</td>\n",
       "      <td>Delhi</td>\n",
       "      <td>11:10</td>\n",
       "      <td>Mumbai</td>\n",
       "      <td>140</td>\n",
       "      <td>0</td>\n",
       "      <td>5955</td>\n",
       "      <td>Morning</td>\n",
       "      <td>Morning</td>\n",
       "    </tr>\n",
       "  </tbody>\n",
       "</table>\n",
       "</div>"
      ],
      "text/plain": [
       "  flight_date airline_name flight_code departure_time departure_city  \\\n",
       "0  2022-02-11     SpiceJet     SG-8709          18:55          Delhi   \n",
       "1  2022-02-11     SpiceJet     SG-8157          06:20          Delhi   \n",
       "2  2022-02-11     Air Asia      I5-764          04:25          Delhi   \n",
       "3  2022-02-11      Vistara      UK-995          10:20          Delhi   \n",
       "4  2022-02-11      Vistara      UK-963          08:50          Delhi   \n",
       "\n",
       "  arrival_time arrival_city  flight_duration  stops  price  \\\n",
       "0        21:05       Mumbai              130      0   5953   \n",
       "1        08:40       Mumbai              140      0   5953   \n",
       "2        06:35       Mumbai              130      0   5956   \n",
       "3        12:35       Mumbai              135      0   5955   \n",
       "4        11:10       Mumbai              140      0   5955   \n",
       "\n",
       "  departure_time_group arrival_time_group  \n",
       "0              Evening              Night  \n",
       "1              Morning            Morning  \n",
       "2        Early Morning            Morning  \n",
       "3              Morning          Afternoon  \n",
       "4              Morning            Morning  "
      ]
     },
     "execution_count": 4,
     "metadata": {},
     "output_type": "execute_result"
    }
   ],
   "source": [
    "economy_df.head()"
   ]
  },
  {
   "cell_type": "markdown",
   "metadata": {},
   "source": [
    "### 1. Data Preprocessing\n",
    "- Convert 'flight_date' to datetime to extract relevant time features\n",
    "- Encode categorical features\n",
    "- Define Features (X) and Target (y)\n",
    "- Split Data into Training and Testing sets"
   ]
  },
  {
   "cell_type": "code",
   "execution_count": 5,
   "metadata": {},
   "outputs": [
    {
     "name": "stdout",
     "output_type": "stream",
     "text": [
      "flight_date             object\n",
      "airline_name            object\n",
      "flight_code             object\n",
      "departure_time          object\n",
      "departure_city          object\n",
      "arrival_time            object\n",
      "arrival_city            object\n",
      "flight_duration          int64\n",
      "stops                    int64\n",
      "price                    int64\n",
      "departure_time_group    object\n",
      "arrival_time_group      object\n",
      "dtype: object\n"
     ]
    }
   ],
   "source": [
    "print(business_df.dtypes)"
   ]
  },
  {
   "cell_type": "code",
   "execution_count": 6,
   "metadata": {},
   "outputs": [
    {
     "name": "stdout",
     "output_type": "stream",
     "text": [
      "flight_date             object\n",
      "airline_name            object\n",
      "flight_code             object\n",
      "departure_time          object\n",
      "departure_city          object\n",
      "arrival_time            object\n",
      "arrival_city            object\n",
      "flight_duration          int64\n",
      "stops                    int64\n",
      "price                    int64\n",
      "departure_time_group    object\n",
      "arrival_time_group      object\n",
      "dtype: object\n"
     ]
    }
   ],
   "source": [
    "print(economy_df.dtypes)"
   ]
  },
  {
   "cell_type": "markdown",
   "metadata": {},
   "source": [
    "1.1 Drop columns"
   ]
  },
  {
   "cell_type": "code",
   "execution_count": 7,
   "metadata": {},
   "outputs": [],
   "source": [
    "columns_to_drop = ['flight_date', 'flight_code', 'departure_time', 'arrival_time']\n",
    "business_df = business_df.drop(columns=columns_to_drop)\n",
    "economy_df = economy_df.drop(columns=columns_to_drop)"
   ]
  },
  {
   "cell_type": "markdown",
   "metadata": {},
   "source": [
    "1.2. Encode categorical features"
   ]
  },
  {
   "cell_type": "code",
   "execution_count": 8,
   "metadata": {},
   "outputs": [],
   "source": [
    "label_encoder = LabelEncoder()\n",
    "\n",
    "# encode categorical ordinal features\n",
    "business_df['departure_time_group'] = label_encoder.fit_transform(business_df['departure_time_group'])\n",
    "economy_df['departure_time_group'] = label_encoder.fit_transform(economy_df['departure_time_group'])\n",
    "\n",
    "business_df['arrival_time_group'] = label_encoder.fit_transform(business_df['arrival_time_group'])\n",
    "economy_df['arrival_time_group'] = label_encoder.fit_transform(economy_df['arrival_time_group'])"
   ]
  },
  {
   "cell_type": "markdown",
   "metadata": {},
   "source": [
    "1.3. Define Features and Target"
   ]
  },
  {
   "cell_type": "code",
   "execution_count": null,
   "metadata": {},
   "outputs": [],
   "source": [
    "# business\n",
    "X_business = business_encoded[['airline_name', 'flight_duration', 'stops', 'departure_hour', 'arrival_hour', \n",
    "        'departure_city', 'arrival_city', 'departure_time_group', 'arrival_time_group']]\n",
    "y_business = business_encoded['price']"
   ]
  },
  {
   "cell_type": "code",
   "execution_count": null,
   "metadata": {},
   "outputs": [],
   "source": [
    "# economy\n",
    "X_economy = economy_encoded[['airline_name', 'flight_duration', 'stops', 'departure_hour', 'arrival_hour', \n",
    "        'departure_city', 'arrival_city', 'departure_time_group', 'arrival_time_group']]\n",
    "y_economy = economy_encoded['price']"
   ]
  },
  {
   "cell_type": "markdown",
   "metadata": {},
   "source": [
    "1.4. Split Data into Training and Testing Sets"
   ]
  },
  {
   "cell_type": "code",
   "execution_count": null,
   "metadata": {},
   "outputs": [],
   "source": [
    "# business\n",
    "X_business_train, X_business_test, y_business_train, y_business_test = train_test_split(X_business, y_business, test_size=0.3, random_state=42)"
   ]
  },
  {
   "cell_type": "code",
   "execution_count": null,
   "metadata": {},
   "outputs": [],
   "source": [
    "# economy\n",
    "X_economy_train, X_economy_test, y_economy_train, y_economy_test = train_test_split(X_economy, y_economy, test_size=0.3, random_state=42)\n"
   ]
  },
  {
   "cell_type": "markdown",
   "metadata": {},
   "source": [
    "## Bagging and Pasting for 'price'"
   ]
  },
  {
   "cell_type": "markdown",
   "metadata": {},
   "source": [
    "Business Class"
   ]
  },
  {
   "cell_type": "code",
   "execution_count": null,
   "metadata": {},
   "outputs": [],
   "source": [
    "# # init  base learner (DecisionTreeRegressor)\n",
    "# base_model = DecisionTreeRegressor(random_state=42)\n",
    "\n",
    "# # init Bagging Regressor with bootstrap=False to simulate pasting\n",
    "# pasting_model = BaggingRegressor(base_model, n_estimators=100, bootstrap=False, max_samples=1.0, random_state=42)\n",
    "\n",
    "# # init Bagging Regressor with base model\n",
    "# bagging_model = BaggingRegressor(base_model, n_estimators=100, random_state=42)\n",
    "\n",
    "# # train the model\n",
    "# bagging_model.fit(X_business_train, y_business_train)\n",
    "\n",
    "# # make predictions\n",
    "# y_pred = bagging_model.predict(X_business_test)\n",
    "\n",
    "# # train the model\n",
    "# pasting_model.fit(X_business_train, y_business_train)\n",
    "\n",
    "# # make predictions\n",
    "# y_pred_pasting = pasting_model.predict(X_business_test)\n",
    "\n",
    "# # evaluate\n",
    "# print(\"Bagging Regressor Evaluation for Business Class:\")\n",
    "# print(\"Mean Absolute Error (MAE):\", mean_absolute_error(y_business_test, y_pred))\n",
    "# print(\"Mean Squared Error (MSE):\", mean_squared_error(y_business_test, y_pred))\n",
    "# print(\"R-squared (R2) Score:\", r2_score(y_business_test, y_pred))\n",
    "\n",
    "# print(\"\\nSimulated Pasting Regressor Evaluation for Business Class:\")\n",
    "# print(\"Mean Absolute Error (MAE):\", mean_absolute_error(y_business_test, y_pred_pasting))\n",
    "# print(\"Mean Squared Error (MSE):\", mean_squared_error(y_business_test, y_pred_pasting))\n",
    "# print(\"R-squared (R2) Score:\", r2_score(y_business_test, y_pred_pasting))"
   ]
  },
  {
   "cell_type": "code",
   "execution_count": null,
   "metadata": {},
   "outputs": [],
   "source": [
    "# # Actual vs Predicted Plot\n",
    "# plt.figure(figsize=(8, 6))\n",
    "# plt.scatter(y_business_test, y_pred_pasting, color='blue', alpha=0.6)\n",
    "# plt.plot([min(y_business_test), max(y_business_test)], [min(y_business_test), max(y_business_test)], color='red', linestyle='--')\n",
    "# plt.title(\"Actual vs Predicted Prices (Business Class)\")\n",
    "# plt.xlabel(\"Actual Prices\")\n",
    "# plt.ylabel(\"Predicted Prices\")\n",
    "# plt.grid(True)\n",
    "# plt.show()"
   ]
  },
  {
   "cell_type": "code",
   "execution_count": null,
   "metadata": {},
   "outputs": [],
   "source": [
    "# # Residual Plot\n",
    "# residuals = y_business_test - y_pred_pasting\n",
    "# plt.figure(figsize=(8, 6))\n",
    "# sns.residplot(x=y_pred_pasting, y=residuals, lowess=True, line_kws={'color': 'red'})\n",
    "# plt.title(\"Residuals Plot\")\n",
    "# plt.xlabel(\"Predicted Prices\")\n",
    "# plt.ylabel(\"Residuals (Actual - Predicted)\")\n",
    "# plt.grid(True)\n",
    "# plt.show()"
   ]
  },
  {
   "cell_type": "code",
   "execution_count": null,
   "metadata": {},
   "outputs": [],
   "source": [
    "# # Feature Importance Plot\n",
    "# importances = pasting_model.estimators_[0].feature_importances_\n",
    "# features = X_business.columns\n",
    "\n",
    "# plt.figure(figsize=(8, 6))\n",
    "# plt.barh(features, importances)\n",
    "# plt.title(\"Feature Importance from Decision Tree Base Learner (Business Class)\")\n",
    "# plt.xlabel(\"Importance\")\n",
    "# plt.ylabel(\"Features\")\n",
    "# plt.grid(True)\n",
    "# plt.show()"
   ]
  },
  {
   "cell_type": "code",
   "execution_count": null,
   "metadata": {},
   "outputs": [],
   "source": [
    "# # 4. Prediction Error Distribution (Histogram of Residuals)\n",
    "# plt.figure(figsize=(8, 6))\n",
    "# sns.histplot(residuals, kde=True, color='green')\n",
    "# plt.title(\"Prediction Error Distribution (Business Class)\")\n",
    "# plt.xlabel(\"Residuals (Actual - Predicted)\")\n",
    "# plt.ylabel(\"Frequency\")\n",
    "# plt.grid(True)\n",
    "# plt.show()"
   ]
  },
  {
   "cell_type": "markdown",
   "metadata": {},
   "source": [
    "Economy Class"
   ]
  },
  {
   "cell_type": "markdown",
   "metadata": {},
   "source": [
    "Outlier Detection using Z-Score"
   ]
  },
  {
   "cell_type": "code",
   "execution_count": null,
   "metadata": {},
   "outputs": [],
   "source": [
    "# Assuming you have your dataset in X_economy_train as a pandas DataFrame\n",
    "# Calculate Z-scores for each feature\n",
    "z_scores = np.abs(stats.zscore(X_economy_train))\n",
    "\n",
    "# Set a threshold (usually 3 or -3 for Z-scores)\n",
    "outliers = (z_scores > 3)\n",
    "\n",
    "# Identify the rows with outliers\n",
    "outlier_indices = np.where(outliers)[0]\n",
    "outlier_rows = X_economy_train.iloc[outlier_indices]\n",
    "\n",
    "print(f\"Number of outliers: {len(outlier_rows)}\")\n",
    "print(outlier_rows)\n",
    "\n",
    "# Optionally, remove outliers\n",
    "X_economy_train_clean = X_economy_train[~np.any(outliers, axis=1)]\n",
    "y_economy_train_clean = y_economy_train[~np.any(outliers, axis=1)]\n",
    "\n",
    "print(\"Shape of data after removing outliers:\", X_economy_train_clean.shape)\n"
   ]
  },
  {
   "cell_type": "markdown",
   "metadata": {},
   "source": [
    "Feature Scaling"
   ]
  },
  {
   "cell_type": "code",
   "execution_count": null,
   "metadata": {},
   "outputs": [],
   "source": [
    "from sklearn.preprocessing import StandardScaler, RobustScaler\n",
    "\n",
    "scaler = StandardScaler()  # or RobustScaler()\n",
    "X_economy_train_scaled = scaler.fit_transform(X_economy_train)\n",
    "X_economy_test_scaled = scaler.transform(X_economy_test)\n"
   ]
  },
  {
   "cell_type": "markdown",
   "metadata": {},
   "source": [
    "Hyperparameter Tuning"
   ]
  },
  {
   "cell_type": "code",
   "execution_count": null,
   "metadata": {},
   "outputs": [],
   "source": [
    "# from sklearn.model_selection import GridSearchCV\n",
    "# from sklearn.ensemble import BaggingRegressor\n",
    "# from sklearn.tree import DecisionTreeRegressor\n",
    "\n",
    "# # Initialize the base model (DecisionTreeRegressor)\n",
    "# base_model = DecisionTreeRegressor(random_state=42)\n",
    "\n",
    "# # Initialize the Bagging Regressor model\n",
    "# bagging_model = BaggingRegressor(base_model, random_state=42)\n",
    "\n",
    "# # Define a parameter grid for tuning\n",
    "# param_grid = {\n",
    "#     'base_estimator__max_depth': [3, 5, 10, None],  # Decision tree depth\n",
    "#     'n_estimators': [50, 100, 200],  # Number of trees in the ensemble\n",
    "#     'max_samples': [0.5, 0.75, 1.0],  # Fraction of samples used for each model\n",
    "#     'base_estimator__min_samples_split': [2, 5, 10]  # Min samples for splitting nodes in decision tree\n",
    "# }\n",
    "\n",
    "# # Perform GridSearchCV\n",
    "# grid_search = GridSearchCV(bagging_model, param_grid, cv=5, scoring='neg_mean_squared_error', n_jobs=-1)\n",
    "\n",
    "# # Fit the GridSearchCV to the training data\n",
    "# grid_search.fit(X_economy_train_scaled, y_economy_train)\n",
    "\n",
    "# # Print the best hyperparameters found\n",
    "# print(\"Best hyperparameters found: \", grid_search.best_params_)\n"
   ]
  },
  {
   "cell_type": "code",
   "execution_count": null,
   "metadata": {},
   "outputs": [],
   "source": [
    "from sklearn.model_selection import train_test_split\n",
    "from sklearn.preprocessing import MinMaxScaler\n",
    "from sklearn.ensemble import BaggingRegressor\n",
    "from sklearn.tree import DecisionTreeRegressor\n",
    "from sklearn.metrics import mean_absolute_error, mean_squared_error, r2_score\n",
    "\n",
    "# Split the data into training and testing sets\n",
    "X_economy_train, X_economy_test, y_economy_train, y_economy_test = train_test_split(X_economy, y_economy, test_size=0.3, random_state=42)\n",
    "\n",
    "# Initialize the base learner (DecisionTreeRegressor)\n",
    "base_model = DecisionTreeRegressor(random_state=42)\n",
    "\n",
    "# Initialize Bagging Regressor with bootstrap=False to simulate pasting\n",
    "pasting_model = BaggingRegressor(base_model, n_estimators=100, bootstrap=False, max_samples=1.0, random_state=42)\n",
    "\n",
    "# Initialize Bagging Regressor with the base model\n",
    "bagging_model = BaggingRegressor(base_model, n_estimators=100, random_state=42)\n",
    "\n",
    "# Train the Bagging Regressor\n",
    "bagging_model.fit(X_economy_train_scaled, y_economy_train)\n",
    "\n",
    "# Make predictions\n",
    "y_pred = bagging_model.predict(X_economy_test_scaled)\n",
    "\n",
    "# Train the Simulated Pasting Regressor\n",
    "pasting_model.fit(X_economy_train_scaled, y_economy_train)\n",
    "\n",
    "# Make predictions\n",
    "y_pred_pasting = pasting_model.predict(X_economy_test_scaled)\n",
    "\n",
    "# Evaluate the Bagging Model\n",
    "print(\"Bagging Regressor Evaluation for Economy Class:\")\n",
    "print(\"Mean Absolute Error (MAE):\", mean_absolute_error(y_economy_test, y_pred))\n",
    "print(\"Mean Squared Error (MSE):\", mean_squared_error(y_economy_test, y_pred))\n",
    "print(\"R-squared (R2) Score:\", r2_score(y_economy_test, y_pred))\n",
    "\n",
    "# Evaluate the Simulated Pasting Model\n",
    "print(\"\\nSimulated Pasting Regressor Evaluation for Economy Class:\")\n",
    "print(\"Mean Absolute Error (MAE):\", mean_absolute_error(y_economy_test, y_pred_pasting))\n",
    "print(\"Mean Squared Error (MSE):\", mean_squared_error(y_economy_test, y_pred_pasting))\n",
    "print(\"R-squared (R2) Score:\", r2_score(y_economy_test, y_pred_pasting))\n"
   ]
  },
  {
   "cell_type": "code",
   "execution_count": null,
   "metadata": {},
   "outputs": [],
   "source": [
    "# # Actual vs Predicted Plot\n",
    "# plt.figure(figsize=(8, 6))\n",
    "# plt.scatter(y_economy_test, y_pred_pasting, color='blue', alpha=0.6)\n",
    "# plt.plot([min(y_economy_test), max(y_economy_test)], [min(y_economy_test), max(y_economy_test)], color='red', linestyle='--')\n",
    "# plt.title(\"Actual vs Predicted Prices (Economy Class)\")\n",
    "# plt.xlabel(\"Actual Prices\")\n",
    "# plt.ylabel(\"Predicted Prices\")\n",
    "# plt.grid(True)\n",
    "# plt.show()"
   ]
  },
  {
   "cell_type": "code",
   "execution_count": null,
   "metadata": {},
   "outputs": [],
   "source": [
    "# # Residual Plot\n",
    "# residuals = y_economy_test - y_pred_pasting\n",
    "# plt.figure(figsize=(8, 6))\n",
    "# sns.residplot(x=y_pred_pasting, y=residuals, lowess=True, line_kws={'color': 'red'})\n",
    "# plt.title(\"Residuals Plot (Economy Class)\")\n",
    "# plt.xlabel(\"Predicted Prices\")\n",
    "# plt.ylabel(\"Residuals (Actual - Predicted)\")\n",
    "# plt.grid(True)\n",
    "# plt.show()"
   ]
  },
  {
   "cell_type": "code",
   "execution_count": null,
   "metadata": {},
   "outputs": [],
   "source": [
    "# # Feature Importance Plot\n",
    "# importances = pasting_model.estimators_[0].feature_importances_\n",
    "# features = X_economy.columns\n",
    "\n",
    "# plt.figure(figsize=(8, 6))\n",
    "# plt.barh(features, importances)\n",
    "# plt.title(\"Feature Importance from Decision Tree Base Learner (Economy Class)\")\n",
    "# plt.xlabel(\"Importance\")\n",
    "# plt.ylabel(\"Features\")\n",
    "# plt.grid(True)\n",
    "# plt.show()"
   ]
  },
  {
   "cell_type": "code",
   "execution_count": null,
   "metadata": {},
   "outputs": [],
   "source": [
    "# # Prediction Error Distribution (Histogram of Residuals)\n",
    "# plt.figure(figsize=(8, 6))\n",
    "# sns.histplot(residuals, kde=True, color='green')\n",
    "# plt.title(\"Prediction Error Distribution (Economy Class)\")\n",
    "# plt.xlabel(\"Residuals (Actual - Predicted)\")\n",
    "# plt.ylabel(\"Frequency\")\n",
    "# plt.grid(True)\n",
    "# plt.show()"
   ]
  },
  {
   "cell_type": "markdown",
   "metadata": {},
   "source": []
  }
 ],
 "metadata": {
  "kernelspec": {
   "display_name": "base",
   "language": "python",
   "name": "python3"
  },
  "language_info": {
   "codemirror_mode": {
    "name": "ipython",
    "version": 3
   },
   "file_extension": ".py",
   "mimetype": "text/x-python",
   "name": "python",
   "nbconvert_exporter": "python",
   "pygments_lexer": "ipython3",
   "version": "3.12.2"
  }
 },
 "nbformat": 4,
 "nbformat_minor": 2
}
