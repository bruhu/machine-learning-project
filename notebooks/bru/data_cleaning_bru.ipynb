{
 "cells": [
  {
   "cell_type": "markdown",
   "metadata": {},
   "source": [
    "Bru's notebook"
   ]
  },
  {
   "cell_type": "code",
   "execution_count": null,
   "metadata": {},
   "outputs": [],
   "source": [
    "import pandas as pd\n",
    "import numpy as np\n",
    "import re"
   ]
  },
  {
   "cell_type": "code",
   "execution_count": null,
   "metadata": {},
   "outputs": [],
   "source": [
    "import sys\n",
    "sys.path.append('../../utils')\n",
    "import functions"
   ]
  },
  {
   "cell_type": "code",
   "execution_count": null,
   "metadata": {},
   "outputs": [],
   "source": [
    "clean_df = pd.read_csv('../../data/raw/Clean_Dataset.csv')\n",
    "business_df = pd.read_csv('../../data/raw/business.csv')\n",
    "economy_df = pd.read_csv('../../data/raw/economy.csv')"
   ]
  },
  {
   "cell_type": "code",
   "execution_count": null,
   "metadata": {},
   "outputs": [],
   "source": [
    "functions.show_basic_info(clean_df)"
   ]
  },
  {
   "cell_type": "code",
   "execution_count": null,
   "metadata": {},
   "outputs": [],
   "source": [
    "functions.show_basic_info(business_df)"
   ]
  },
  {
   "cell_type": "code",
   "execution_count": null,
   "metadata": {},
   "outputs": [],
   "source": [
    "functions.show_basic_info(economy_df)"
   ]
  },
  {
   "cell_type": "markdown",
   "metadata": {},
   "source": [
    "# Data Cleaning"
   ]
  },
  {
   "cell_type": "markdown",
   "metadata": {},
   "source": [
    "## Rename Columns"
   ]
  },
  {
   "cell_type": "code",
   "execution_count": null,
   "metadata": {},
   "outputs": [],
   "source": [
    "clean_df.drop(columns=['Unnamed: 0'], inplace=True) # drop duplicate index and days left columns"
   ]
  },
  {
   "cell_type": "code",
   "execution_count": null,
   "metadata": {},
   "outputs": [],
   "source": [
    "replacement_dict = {\n",
    "    'airline': 'airline_name',\n",
    "    'flight':'flight_code',\n",
    "    'source_city': 'departure_city',\n",
    "    'duration': 'flight_duration',\n",
    "    'destination_city': 'arrival_city',\n",
    "    'duration':'flight_duration',\n",
    "    'price': 'price'\n",
    "}\n",
    "\n",
    "clean_df = functions.rename_columns(clean_df, replacement_dict)\n",
    "clean_df.head()"
   ]
  },
  {
   "cell_type": "code",
   "execution_count": null,
   "metadata": {},
   "outputs": [],
   "source": [
    "replacement_dict = {\n",
    "    'date': 'flight_date',\n",
    "    'airline': 'airline_name',\n",
    "    'ch_code': 'airline_code',\n",
    "    'num_code': 'flight_number',\n",
    "    'dep_time': 'departure_time',\n",
    "    'from': 'departure_city',\n",
    "    'time_taken': 'flight_duration',\n",
    "    'stop': 'stops',\n",
    "    'arr_time': 'arrival_time',\n",
    "    'to': 'arrival_city',\n",
    "    'price': 'price'\n",
    "}\n",
    "\n",
    "business_df = functions.rename_columns(business_df, replacement_dict)\n",
    "business_df.head()"
   ]
  },
  {
   "cell_type": "code",
   "execution_count": null,
   "metadata": {},
   "outputs": [],
   "source": [
    "replacement_dict = {\n",
    "    'date': 'flight_date',\n",
    "    'airline': 'airline_name',\n",
    "    'ch_code': 'airline_code',\n",
    "    'num_code': 'flight_number',\n",
    "    'dep_time': 'departure_time',\n",
    "    'from': 'departure_city',\n",
    "    'time_taken': 'flight_duration',\n",
    "    'stop': 'stops',\n",
    "    'arr_time': 'arrival_time',\n",
    "    'to': 'arrival_city',\n",
    "    'price': 'price'\n",
    "}\n",
    "\n",
    "economy_df = functions.rename_columns(economy_df, replacement_dict)\n",
    "economy_df.head()"
   ]
  },
  {
   "cell_type": "markdown",
   "metadata": {},
   "source": [
    "## Remove duplicate rows"
   ]
  },
  {
   "cell_type": "code",
   "execution_count": null,
   "metadata": {},
   "outputs": [],
   "source": [
    "functions.remove_duplicates(clean_df)"
   ]
  },
  {
   "cell_type": "code",
   "execution_count": null,
   "metadata": {},
   "outputs": [],
   "source": [
    "functions.remove_duplicates(business_df)"
   ]
  },
  {
   "cell_type": "code",
   "execution_count": null,
   "metadata": {},
   "outputs": [],
   "source": [
    "functions.remove_duplicates(economy_df)"
   ]
  },
  {
   "cell_type": "markdown",
   "metadata": {},
   "source": [
    "## Data Standardization\n",
    "- Ensuring matching data types\n",
    "- Formatting values consistently\n",
    "- Normalizing textual data"
   ]
  },
  {
   "cell_type": "markdown",
   "metadata": {},
   "source": [
    "## Standardize 'price' column\n",
    "Convert data type from string to integer in business and economy dataframes"
   ]
  },
  {
   "cell_type": "code",
   "execution_count": null,
   "metadata": {},
   "outputs": [],
   "source": [
    "def standardize_price(df, column_name='price'):\n",
    "    df[column_name] = df[column_name].str.replace(',', '', regex=True).astype(int)\n",
    "    return df\n",
    "\n",
    "business_df = standardize_price(business_df, 'price')\n",
    "economy_df = standardize_price(economy_df, 'price')\n",
    "\n",
    "print('Business DF:')\n",
    "print(business_df)\n",
    "print('\\nEconomy DF:')\n",
    "print(economy_df)"
   ]
  },
  {
   "cell_type": "markdown",
   "metadata": {},
   "source": [
    "## Standardize 'stops' column\n",
    "economy and business dataframes have unclear values in the 'stops' column, parse them to integers (0, 1 or 2) "
   ]
  },
  {
   "cell_type": "code",
   "execution_count": null,
   "metadata": {},
   "outputs": [],
   "source": [
    "# clean_df\n",
    "stop_mapping = {\n",
    "        'zero': 0,\n",
    "        'one': 1,\n",
    "        'two_or_more': 2\n",
    "    }\n",
    "    \n",
    "clean_df['stops'] = clean_df['stops'].map(stop_mapping)"
   ]
  },
  {
   "cell_type": "code",
   "execution_count": null,
   "metadata": {},
   "outputs": [],
   "source": [
    "def stops_to_integers(df, column_name='stops'):\n",
    "    def map_stops(value):\n",
    "        if 'non-stop' in value:\n",
    "            return 0\n",
    "        else:\n",
    "            match = re.search(r'\\d+', value) # extract first digit w regex\n",
    "            return int(match.group()) if match else None\n",
    "\n",
    "    df[column_name] = df[column_name].apply(map_stops)\n",
    "    return df"
   ]
  },
  {
   "cell_type": "code",
   "execution_count": null,
   "metadata": {},
   "outputs": [],
   "source": [
    "stops_to_integers(business_df)"
   ]
  },
  {
   "cell_type": "code",
   "execution_count": null,
   "metadata": {},
   "outputs": [],
   "source": [
    "stops_to_integers(economy_df)"
   ]
  },
  {
   "cell_type": "markdown",
   "metadata": {},
   "source": [
    "## Date & Time Conversion\n",
    "- flight_date columns\n",
    "- departure_time\n",
    "- arrival_time\n",
    "\n",
    "TBD: decide how to handle departure and arrival times in cleaned_df"
   ]
  },
  {
   "cell_type": "code",
   "execution_count": null,
   "metadata": {},
   "outputs": [],
   "source": [
    "functions.convert_date_column(economy_df, 'flight_date')"
   ]
  },
  {
   "cell_type": "code",
   "execution_count": null,
   "metadata": {},
   "outputs": [],
   "source": [
    "functions.convert_date_column(business_df, 'flight_date')"
   ]
  },
  {
   "cell_type": "code",
   "execution_count": null,
   "metadata": {},
   "outputs": [],
   "source": [
    "functions.convert_time_column(business_df, 'arrival_time')\n",
    "functions.convert_time_column(business_df, 'departure_time')"
   ]
  },
  {
   "cell_type": "code",
   "execution_count": null,
   "metadata": {},
   "outputs": [],
   "source": [
    "functions.convert_time_column(economy_df, 'arrival_time')\n",
    "functions.convert_time_column(economy_df, 'departure_time')"
   ]
  },
  {
   "cell_type": "markdown",
   "metadata": {},
   "source": [
    "## Generate Flight Code\n",
    "combine 'airline_code' and 'flight_number' columns to generate 'flight_code' - business and economy dataframes, to match clean df"
   ]
  },
  {
   "cell_type": "code",
   "execution_count": null,
   "metadata": {},
   "outputs": [],
   "source": [
    "def create_flight_code(df):\n",
    "    df['flight_code'] = df['airline_code'] + '-' + df['flight_number'].astype(str)\n",
    "    return df"
   ]
  },
  {
   "cell_type": "code",
   "execution_count": null,
   "metadata": {},
   "outputs": [],
   "source": [
    "create_flight_code(business_df)"
   ]
  },
  {
   "cell_type": "code",
   "execution_count": null,
   "metadata": {},
   "outputs": [],
   "source": [
    "create_flight_code(economy_df)"
   ]
  },
  {
   "cell_type": "markdown",
   "metadata": {},
   "source": [
    "#### Drop columns"
   ]
  },
  {
   "cell_type": "code",
   "execution_count": null,
   "metadata": {},
   "outputs": [],
   "source": [
    "business_df = business_df.drop(columns=['airline_code', 'flight_number'])\n",
    "economy_df = economy_df.drop(columns=['airline_code', 'flight_number'])"
   ]
  },
  {
   "cell_type": "markdown",
   "metadata": {},
   "source": [
    "## Generate Flight Time Groups\n",
    "- business_df and economy_df have datetime information\n",
    "- clean_df has time categories (Early morning, morning, etc.)\n",
    "- Create group columns and assign time group according to predefined range"
   ]
  },
  {
   "cell_type": "code",
   "execution_count": null,
   "metadata": {},
   "outputs": [],
   "source": [
    "# function to generate time groups\n",
    "def categorize_flight_time(time_str):\n",
    "    hour = int(time_str.split(':')[0]) \n",
    "    \n",
    "    # categorize based on the hour block\n",
    "    if 4 <= hour < 6:\n",
    "        return 'Early Morning'\n",
    "    elif 6 <= hour < 12:\n",
    "        return 'Morning'\n",
    "    elif 12 <= hour < 18:\n",
    "        return 'Afternoon'\n",
    "    elif 18 <= hour < 21:\n",
    "        return 'Evening'\n",
    "    elif 21 <= hour < 24:\n",
    "        return 'Night'\n",
    "    else:\n",
    "        return 'Late Night'\n",
    "    \n",
    "\n",
    "# implementation\n",
    "\n",
    "business_df['departure_time_group'] = business_df['departure_time'].apply(categorize_flight_time)\n",
    "business_df['arrival_time_group'] = business_df['arrival_time'].apply(categorize_flight_time)\n",
    "\n",
    "economy_df['departure_time_group'] = economy_df['departure_time'].apply(categorize_flight_time)\n",
    "economy_df['arrival_time_group'] = economy_df['arrival_time'].apply(categorize_flight_time)\n",
    "\n",
    "# clean_df\n",
    "clean_df.rename(columns={'departure_time': 'departure_time_group', 'arrival_time' : 'arrival_time_group'}, inplace=True)\n",
    "\n",
    "columns_to_clean = ['departure_time_group', 'arrival_time_group']\n",
    "\n",
    "for col in columns_to_clean:\n",
    "    clean_df[col] = clean_df[col].str.replace(' ', '', regex=True).str.replace('_', ' ', regex=True)"
   ]
  },
  {
   "cell_type": "markdown",
   "metadata": {},
   "source": [
    "## Standardize Airline Names\n",
    "For congruence in every dataframe"
   ]
  },
  {
   "cell_type": "code",
   "execution_count": null,
   "metadata": {},
   "outputs": [],
   "source": [
    "# mapping function for standardization\n",
    "def standardize_airline_names(df, column_name='airline_name'):\n",
    "    standard_name_mapping = {\n",
    "        'SpiceJet': 'SpiceJet',\n",
    "        'AirAsia': 'Air Asia',\n",
    "        'Vistara': 'Vistara',\n",
    "        'GO_FIRST': 'Go First',\n",
    "        'GO FIRST': 'Go First',\n",
    "        'Indigo': 'Indigo',\n",
    "        'Air_India': 'Air India',\n",
    "        'Air India': 'Air India',\n",
    "        'Trujet': 'TruJet',\n",
    "        'StarAir': 'Star Air',\n",
    "    }\n",
    "    \n",
    "    df[column_name] = df[column_name].replace(standard_name_mapping)\n",
    "    return df\n",
    "\n",
    "# implementation\n",
    "clean_df = standardize_airline_names(clean_df)\n",
    "print(clean_df['airline_name'].unique())\n",
    "\n",
    "business_df = standardize_airline_names(business_df)\n",
    "print(clean_df['airline_name'].unique())\n",
    "\n",
    "economy_df = standardize_airline_names(economy_df)\n",
    "print(economy_df['airline_name'].unique())"
   ]
  },
  {
   "cell_type": "code",
   "execution_count": null,
   "metadata": {},
   "outputs": [],
   "source": [
    "clean_df.head()"
   ]
  },
  {
   "cell_type": "markdown",
   "metadata": {},
   "source": [
    "## Format 'flight_duration' column\n",
    "- Convert duration to minutes(int)\n",
    "- Separate function for economy and business dfs, handling the different format and dot notation indicating dates."
   ]
  },
  {
   "cell_type": "code",
   "execution_count": null,
   "metadata": {},
   "outputs": [],
   "source": [
    "def convert_duration_to_minutes(df, column_name):\n",
    "    df[column_name] = (df[column_name] * 60).round().astype(int)\n",
    "    return df\n",
    "\n",
    "clean_df = convert_duration_to_minutes(clean_df, 'flight_duration')"
   ]
  },
  {
   "cell_type": "code",
   "execution_count": null,
   "metadata": {},
   "outputs": [],
   "source": [
    "def convert_duration_string_to_minutes(duration_str):\n",
    "    hours, minutes = 0, 0\n",
    "    \n",
    "    if '1.' in duration_str: # extract days\n",
    "        hours = 24 \n",
    "        duration_str = duration_str.replace('1.', '')\n",
    "\n",
    "    if 'h' in duration_str: # extract hours\n",
    "        hours += int(duration_str.split('h')[0])\n",
    "\n",
    "    if 'm' in duration_str: # extract minutes\n",
    "        try:\n",
    "            minutes_str = duration_str.split('h ')[1].split('m')[0]  # Extract minutes portion after 'h'\n",
    "            minutes = int(minutes_str) if minutes_str else 0  # If minutes_str is empty, set minutes to 0\n",
    "        except IndexError:\n",
    "            minutes = 0  # if no value after 'h'\n",
    "    \n",
    "    return int(hours * 60 + minutes) # return total in minutes\n",
    "\n",
    "\n",
    "business_df['flight_duration'] = business_df['flight_duration'].apply(convert_duration_string_to_minutes)"
   ]
  },
  {
   "cell_type": "code",
   "execution_count": null,
   "metadata": {},
   "outputs": [],
   "source": [
    "economy_df['flight_duration'] = economy_df['flight_duration'].apply(convert_duration_string_to_minutes)"
   ]
  },
  {
   "cell_type": "markdown",
   "metadata": {},
   "source": [
    "#### Reorder columns"
   ]
  },
  {
   "cell_type": "code",
   "execution_count": null,
   "metadata": {},
   "outputs": [],
   "source": [
    "def reorder_columns(df, column_order):\n",
    "    df = df[column_order]\n",
    "    return df\n",
    "\n",
    "column_order = [\n",
    "    'flight_date', 'airline_name', 'flight_code', \n",
    "    'departure_time', 'departure_city', \n",
    "    'arrival_time', 'arrival_city', \n",
    "    'flight_duration', 'stops', 'price', \n",
    "    'departure_time_group', 'arrival_time_group'\n",
    "]"
   ]
  },
  {
   "cell_type": "code",
   "execution_count": null,
   "metadata": {},
   "outputs": [],
   "source": [
    "business_df = reorder_columns(business_df, column_order)"
   ]
  },
  {
   "cell_type": "code",
   "execution_count": null,
   "metadata": {},
   "outputs": [],
   "source": [
    "economy_df = reorder_columns(economy_df, column_order)"
   ]
  },
  {
   "cell_type": "code",
   "execution_count": null,
   "metadata": {},
   "outputs": [],
   "source": [
    "clean_df = clean_df[[\n",
    "    'airline_name', 'flight_code', \n",
    "    'departure_city', \n",
    "    'arrival_city', \n",
    "    'flight_duration', 'stops', 'price', 'class', 'days_left',\n",
    "    'departure_time_group', 'arrival_time_group'\n",
    "]]"
   ]
  },
  {
   "cell_type": "markdown",
   "metadata": {},
   "source": [
    "### Check again"
   ]
  },
  {
   "cell_type": "code",
   "execution_count": null,
   "metadata": {},
   "outputs": [],
   "source": [
    "clean_df.head()"
   ]
  },
  {
   "cell_type": "code",
   "execution_count": null,
   "metadata": {},
   "outputs": [],
   "source": [
    "business_df.head()"
   ]
  },
  {
   "cell_type": "code",
   "execution_count": null,
   "metadata": {},
   "outputs": [],
   "source": [
    "economy_df.head()"
   ]
  },
  {
   "cell_type": "markdown",
   "metadata": {},
   "source": [
    "### Export Data Frames to .csv"
   ]
  },
  {
   "cell_type": "code",
   "execution_count": null,
   "metadata": {},
   "outputs": [],
   "source": [
    "# clean_df.to_csv('../../data/clean/clean_dataset_df.csv', index=False)\n",
    "# business_df.to_csv('../../data/clean/clean_business_df.csv', index=False)\n",
    "# economy_df.to_csv('../../data/clean/clean_economy_df.csv', index=False)"
   ]
  }
 ],
 "metadata": {
  "kernelspec": {
   "display_name": "base",
   "language": "python",
   "name": "python3"
  },
  "language_info": {
   "codemirror_mode": {
    "name": "ipython",
    "version": 3
   },
   "file_extension": ".py",
   "mimetype": "text/x-python",
   "name": "python",
   "nbconvert_exporter": "python",
   "pygments_lexer": "ipython3",
   "version": "3.12.2"
  }
 },
 "nbformat": 4,
 "nbformat_minor": 2
}
