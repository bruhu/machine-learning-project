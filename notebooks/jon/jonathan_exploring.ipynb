{
 "cells": [
  {
   "cell_type": "code",
   "execution_count": 6,
   "id": "8d0ac6a6-09d0-49f8-b040-af4744b6120d",
   "metadata": {},
   "outputs": [],
   "source": [
    "#import libraries\n",
    "import pandas as pd\n",
    "import numpy as np\n",
    "import seaborn as sns\n",
    "import matplotlib.pyplot as plt\n",
    "from sklearn.model_selection import train_test_split\n",
    "\n"
   ]
  },
  {
   "cell_type": "code",
   "execution_count": 74,
   "id": "511ecf74-79db-4c70-a61b-782b5a530227",
   "metadata": {},
   "outputs": [],
   "source": [
    "#flight_df = pd.read_csv(\"../../data/raw/Clean_Dataset.csv\")\n",
    "#business_df = pd.read_csv(\"../../data/raw/business.csv\")\n",
    "#economy_df = pd.read_csv(\"../../data/raw/economy.csv\")\n",
    "\n",
    "cleaned_df = pd.read_csv(\"../../data/clean/clean_dataset_df.csv\")\n",
    "combined_df = pd.read_csv(\"../../data/clean/clean_combined.csv\")"
   ]
  },
  {
   "cell_type": "code",
   "execution_count": 68,
   "id": "8410ff39-dd22-4978-9a39-c73c7f4da91c",
   "metadata": {},
   "outputs": [],
   "source": [
    "import sys\n",
    "sys.path.append('../../utils')\n",
    "import functions"
   ]
  },
  {
   "cell_type": "code",
   "execution_count": 70,
   "id": "1c8b7add-5426-4c2b-b616-b80ec8bec122",
   "metadata": {},
   "outputs": [
    {
     "name": "stdout",
     "output_type": "stream",
     "text": [
      "\n",
      "DataFrame Shape: (300153, 11)\n",
      "Number of Rows: 300153\n",
      "Number of Columns: 11\n",
      "\n",
      "Data Types of Columns:\n",
      "airline_name            object\n",
      "flight_code             object\n",
      "departure_city          object\n",
      "arrival_city            object\n",
      "flight_duration         object\n",
      "stops                    int64\n",
      "price                    int64\n",
      "class                   object\n",
      "days_left                int64\n",
      "departure_time_group    object\n",
      "arrival_time_group      object\n",
      "dtype: object\n",
      "\n",
      "Missing Values per Column:\n",
      "airline_name            0\n",
      "flight_code             0\n",
      "departure_city          0\n",
      "arrival_city            0\n",
      "flight_duration         0\n",
      "stops                   0\n",
      "price                   0\n",
      "class                   0\n",
      "days_left               0\n",
      "departure_time_group    0\n",
      "arrival_time_group      0\n",
      "dtype: int64\n",
      "\n",
      "First 5 Rows of Data:\n",
      "  airline_name flight_code departure_city arrival_city flight_duration  stops  \\\n",
      "0     SpiceJet     SG-8709          Delhi       Mumbai         02h 10m      0   \n",
      "1     SpiceJet     SG-8157          Delhi       Mumbai         02h 20m      0   \n",
      "2     Air Asia      I5-764          Delhi       Mumbai         02h 10m      0   \n",
      "3      Vistara      UK-995          Delhi       Mumbai         02h 15m      0   \n",
      "4      Vistara      UK-963          Delhi       Mumbai         02h 20m      0   \n",
      "\n",
      "   price    class  days_left departure_time_group arrival_time_group  \n",
      "0   5953  Economy          1              Evening              Night  \n",
      "1   5953  Economy          1        Early Morning            Morning  \n",
      "2   5956  Economy          1        Early Morning      Early Morning  \n",
      "3   5955  Economy          1              Morning          Afternoon  \n",
      "4   5955  Economy          1              Morning            Morning  \n"
     ]
    }
   ],
   "source": [
    "functions.show_basic_info(cleaned_df)"
   ]
  },
  {
   "cell_type": "code",
   "execution_count": 78,
   "id": "3c38a573-5929-4dea-9682-112cb9d395af",
   "metadata": {},
   "outputs": [
    {
     "name": "stdout",
     "output_type": "stream",
     "text": [
      "\n",
      "DataFrame Shape: (300054, 15)\n",
      "Number of Rows: 300054\n",
      "Number of Columns: 15\n",
      "\n",
      "Data Types of Columns:\n",
      "Unnamed: 0                int64\n",
      "airline_name             object\n",
      "flight_code              object\n",
      "departure_city           object\n",
      "arrival_city             object\n",
      "flight_duration          object\n",
      "stops                     int64\n",
      "price                     int64\n",
      "class                    object\n",
      "days_left               float64\n",
      "departure_time_group     object\n",
      "arrival_time_group       object\n",
      "flight_date              object\n",
      "departure_time           object\n",
      "arrival_time             object\n",
      "dtype: object\n",
      "\n",
      "Missing Values per Column:\n",
      "Unnamed: 0                   0\n",
      "airline_name                 0\n",
      "flight_code                  0\n",
      "departure_city               0\n",
      "arrival_city                 0\n",
      "flight_duration              0\n",
      "stops                        0\n",
      "price                        0\n",
      "class                        0\n",
      "days_left               155082\n",
      "departure_time_group         0\n",
      "arrival_time_group           0\n",
      "flight_date                  0\n",
      "departure_time               0\n",
      "arrival_time                 0\n",
      "dtype: int64\n",
      "\n",
      "First 5 Rows of Data:\n",
      "   Unnamed: 0 airline_name flight_code departure_city arrival_city  \\\n",
      "0           0    Air India      AI-868          Delhi       Mumbai   \n",
      "1           3    Air India      AI-624          Delhi       Mumbai   \n",
      "2           6    Air India      AI-531          Delhi       Mumbai   \n",
      "3           7    Air India      AI-839          Delhi       Mumbai   \n",
      "4           9    Air India      AI-544          Delhi       Mumbai   \n",
      "\n",
      "  flight_duration  stops  price     class  days_left departure_time_group  \\\n",
      "0         02h 00m      0  25612  Business        1.0              Evening   \n",
      "1         02h 15m      0  25612  Business        1.0              Evening   \n",
      "2         24h 45m      1  42220  Business        NaN              Evening   \n",
      "3         26h 30m      1  44450  Business        1.0                Night   \n",
      "4         06h 40m      1  46690  Business        NaN            Afternoon   \n",
      "\n",
      "  arrival_time_group flight_date departure_time arrival_time  \n",
      "0            Evening  2022-02-11          18:00        20:00  \n",
      "1              Night  2022-02-11          19:00        21:15  \n",
      "2            Evening  2022-02-11          20:00        20:45  \n",
      "3              Night  2022-02-11          21:25        23:55  \n",
      "4              Night  2022-02-11          17:15        23:55  \n"
     ]
    }
   ],
   "source": [
    "functions.show_basic_info(combined_df)"
   ]
  },
  {
   "cell_type": "code",
   "execution_count": 46,
   "id": "f4d432ba-6c4b-4cde-9120-a5b7bf96fd95",
   "metadata": {},
   "outputs": [
    {
     "data": {
      "text/plain": [
       "array(['SpiceJet', 'AirAsia', 'Vistara', 'GO_FIRST', 'Indigo',\n",
       "       'Air_India'], dtype=object)"
      ]
     },
     "execution_count": 46,
     "metadata": {},
     "output_type": "execute_result"
    }
   ],
   "source": [
    "flight_df['airline'].unique()"
   ]
  },
  {
   "cell_type": "code",
   "execution_count": 49,
   "id": "957ae95f-7ac0-4808-b542-f438a1d521d2",
   "metadata": {},
   "outputs": [
    {
     "data": {
      "text/plain": [
       "array(['Economy', 'Business'], dtype=object)"
      ]
     },
     "execution_count": 49,
     "metadata": {},
     "output_type": "execute_result"
    }
   ],
   "source": [
    "flight_df['class'].unique()"
   ]
  },
  {
   "cell_type": "code",
   "execution_count": 76,
   "id": "7107859d-4322-4115-b16a-f659cd35fbcc",
   "metadata": {},
   "outputs": [
    {
     "data": {
      "text/plain": [
       "array([ 1,  2,  3,  4,  5,  6,  7,  8,  9, 10, 11, 12, 13, 14, 15, 16, 17,\n",
       "       18, 19, 20, 21, 22, 23, 24, 25, 26, 27, 28, 29, 30, 31, 32, 33, 34,\n",
       "       35, 36, 37, 38, 39, 40, 41, 42, 43, 44, 45, 46, 47, 48, 49])"
      ]
     },
     "execution_count": 76,
     "metadata": {},
     "output_type": "execute_result"
    }
   ],
   "source": [
    "cleaned_df['days_left'].unique()"
   ]
  },
  {
   "cell_type": "code",
   "execution_count": 72,
   "id": "c710652c-450b-41d8-abca-3f4681b4f4a3",
   "metadata": {},
   "outputs": [
    {
     "data": {
      "text/plain": [
       "array([ 1., nan,  2.,  3.,  4.,  5.,  6.,  7.,  8.,  9., 10., 11., 12.,\n",
       "       13., 15., 16., 17., 18., 19., 20., 22., 23., 24., 25., 26., 30.,\n",
       "       31., 33., 34., 35., 36., 37., 38., 43., 44., 45., 46., 47., 48.,\n",
       "       14., 21., 39., 27., 41., 49., 28., 29., 42., 40., 32.])"
      ]
     },
     "execution_count": 72,
     "metadata": {},
     "output_type": "execute_result"
    }
   ],
   "source": [
    "combined_df['days_left'].unique()"
   ]
  },
  {
   "cell_type": "code",
   "execution_count": 20,
   "id": "d45d01a8-ee7e-4513-ad11-e38a91d61215",
   "metadata": {},
   "outputs": [
    {
     "name": "stdout",
     "output_type": "stream",
     "text": [
      "Data Types of Columns:\n",
      "Unnamed: 0            int64\n",
      "airline              object\n",
      "flight               object\n",
      "source_city          object\n",
      "departure_time       object\n",
      "stops                object\n",
      "arrival_time         object\n",
      "destination_city     object\n",
      "class                object\n",
      "duration            float64\n",
      "days_left             int64\n",
      "price                 int64\n",
      "dtype: object\n"
     ]
    }
   ],
   "source": [
    "functions.show_data_types(flight_df)"
   ]
  },
  {
   "cell_type": "code",
   "execution_count": 25,
   "id": "fe34ed5d-504d-46c4-8a75-8083fe94a86e",
   "metadata": {},
   "outputs": [
    {
     "name": "stdout",
     "output_type": "stream",
     "text": [
      "\n",
      "Summary Statistics for All Columns:\n",
      "           Unnamed: 0  airline  flight source_city departure_time   stops  \\\n",
      "count   300153.000000   300153  300153      300153         300153  300153   \n",
      "unique            NaN        6    1561           6              6       3   \n",
      "top               NaN  Vistara  UK-706       Delhi        Morning     one   \n",
      "freq              NaN   127859    3235       61343          71146  250863   \n",
      "mean    150076.000000      NaN     NaN         NaN            NaN     NaN   \n",
      "std      86646.852011      NaN     NaN         NaN            NaN     NaN   \n",
      "min          0.000000      NaN     NaN         NaN            NaN     NaN   \n",
      "25%      75038.000000      NaN     NaN         NaN            NaN     NaN   \n",
      "50%     150076.000000      NaN     NaN         NaN            NaN     NaN   \n",
      "75%     225114.000000      NaN     NaN         NaN            NaN     NaN   \n",
      "max     300152.000000      NaN     NaN         NaN            NaN     NaN   \n",
      "\n",
      "       arrival_time destination_city    class       duration      days_left  \\\n",
      "count        300153           300153   300153  300153.000000  300153.000000   \n",
      "unique            6                6        2            NaN            NaN   \n",
      "top           Night           Mumbai  Economy            NaN            NaN   \n",
      "freq          91538            59097   206666            NaN            NaN   \n",
      "mean            NaN              NaN      NaN      12.221021      26.004751   \n",
      "std             NaN              NaN      NaN       7.191997      13.561004   \n",
      "min             NaN              NaN      NaN       0.830000       1.000000   \n",
      "25%             NaN              NaN      NaN       6.830000      15.000000   \n",
      "50%             NaN              NaN      NaN      11.250000      26.000000   \n",
      "75%             NaN              NaN      NaN      16.170000      38.000000   \n",
      "max             NaN              NaN      NaN      49.830000      49.000000   \n",
      "\n",
      "                price  \n",
      "count   300153.000000  \n",
      "unique            NaN  \n",
      "top               NaN  \n",
      "freq              NaN  \n",
      "mean     20889.660523  \n",
      "std      22697.767366  \n",
      "min       1105.000000  \n",
      "25%       4783.000000  \n",
      "50%       7425.000000  \n",
      "75%      42521.000000  \n",
      "max     123071.000000  \n"
     ]
    }
   ],
   "source": [
    "functions.show_column_summary(flight_df)"
   ]
  },
  {
   "cell_type": "code",
   "execution_count": 64,
   "id": "77c2cddf-e702-4937-8657-9aec5947c9b2",
   "metadata": {},
   "outputs": [
    {
     "data": {
      "text/html": [
       "<div>\n",
       "<style scoped>\n",
       "    .dataframe tbody tr th:only-of-type {\n",
       "        vertical-align: middle;\n",
       "    }\n",
       "\n",
       "    .dataframe tbody tr th {\n",
       "        vertical-align: top;\n",
       "    }\n",
       "\n",
       "    .dataframe thead th {\n",
       "        text-align: right;\n",
       "    }\n",
       "</style>\n",
       "<table border=\"1\" class=\"dataframe\">\n",
       "  <thead>\n",
       "    <tr style=\"text-align: right;\">\n",
       "      <th></th>\n",
       "      <th>airline_name</th>\n",
       "      <th>flight_code</th>\n",
       "      <th>departure_city</th>\n",
       "      <th>arrival_city</th>\n",
       "      <th>flight_duration</th>\n",
       "      <th>stops</th>\n",
       "      <th>price</th>\n",
       "      <th>class</th>\n",
       "      <th>days_left</th>\n",
       "      <th>departure_time_group</th>\n",
       "      <th>arrival_time_group</th>\n",
       "    </tr>\n",
       "  </thead>\n",
       "  <tbody>\n",
       "    <tr>\n",
       "      <th>0</th>\n",
       "      <td>SpiceJet</td>\n",
       "      <td>SG-8709</td>\n",
       "      <td>Delhi</td>\n",
       "      <td>Mumbai</td>\n",
       "      <td>02h 10m</td>\n",
       "      <td>0</td>\n",
       "      <td>5953</td>\n",
       "      <td>Economy</td>\n",
       "      <td>1</td>\n",
       "      <td>Evening</td>\n",
       "      <td>Night</td>\n",
       "    </tr>\n",
       "    <tr>\n",
       "      <th>1</th>\n",
       "      <td>SpiceJet</td>\n",
       "      <td>SG-8157</td>\n",
       "      <td>Delhi</td>\n",
       "      <td>Mumbai</td>\n",
       "      <td>02h 20m</td>\n",
       "      <td>0</td>\n",
       "      <td>5953</td>\n",
       "      <td>Economy</td>\n",
       "      <td>1</td>\n",
       "      <td>Early Morning</td>\n",
       "      <td>Morning</td>\n",
       "    </tr>\n",
       "    <tr>\n",
       "      <th>2</th>\n",
       "      <td>Air Asia</td>\n",
       "      <td>I5-764</td>\n",
       "      <td>Delhi</td>\n",
       "      <td>Mumbai</td>\n",
       "      <td>02h 10m</td>\n",
       "      <td>0</td>\n",
       "      <td>5956</td>\n",
       "      <td>Economy</td>\n",
       "      <td>1</td>\n",
       "      <td>Early Morning</td>\n",
       "      <td>Early Morning</td>\n",
       "    </tr>\n",
       "    <tr>\n",
       "      <th>3</th>\n",
       "      <td>Vistara</td>\n",
       "      <td>UK-995</td>\n",
       "      <td>Delhi</td>\n",
       "      <td>Mumbai</td>\n",
       "      <td>02h 15m</td>\n",
       "      <td>0</td>\n",
       "      <td>5955</td>\n",
       "      <td>Economy</td>\n",
       "      <td>1</td>\n",
       "      <td>Morning</td>\n",
       "      <td>Afternoon</td>\n",
       "    </tr>\n",
       "    <tr>\n",
       "      <th>4</th>\n",
       "      <td>Vistara</td>\n",
       "      <td>UK-963</td>\n",
       "      <td>Delhi</td>\n",
       "      <td>Mumbai</td>\n",
       "      <td>02h 20m</td>\n",
       "      <td>0</td>\n",
       "      <td>5955</td>\n",
       "      <td>Economy</td>\n",
       "      <td>1</td>\n",
       "      <td>Morning</td>\n",
       "      <td>Morning</td>\n",
       "    </tr>\n",
       "  </tbody>\n",
       "</table>\n",
       "</div>"
      ],
      "text/plain": [
       "  airline_name flight_code departure_city arrival_city flight_duration  stops  \\\n",
       "0     SpiceJet     SG-8709          Delhi       Mumbai         02h 10m      0   \n",
       "1     SpiceJet     SG-8157          Delhi       Mumbai         02h 20m      0   \n",
       "2     Air Asia      I5-764          Delhi       Mumbai         02h 10m      0   \n",
       "3      Vistara      UK-995          Delhi       Mumbai         02h 15m      0   \n",
       "4      Vistara      UK-963          Delhi       Mumbai         02h 20m      0   \n",
       "\n",
       "   price    class  days_left departure_time_group arrival_time_group  \n",
       "0   5953  Economy          1              Evening              Night  \n",
       "1   5953  Economy          1        Early Morning            Morning  \n",
       "2   5956  Economy          1        Early Morning      Early Morning  \n",
       "3   5955  Economy          1              Morning          Afternoon  \n",
       "4   5955  Economy          1              Morning            Morning  "
      ]
     },
     "execution_count": 64,
     "metadata": {},
     "output_type": "execute_result"
    }
   ],
   "source": [
    "cleaned_df.head()"
   ]
  },
  {
   "cell_type": "code",
   "execution_count": 35,
   "id": "b3a54ab6-1e9b-4ab4-b67a-3d6eef3c5caa",
   "metadata": {},
   "outputs": [
    {
     "data": {
      "text/plain": [
       "array(['Delhi', 'Mumbai', 'Bangalore', 'Kolkata', 'Hyderabad', 'Chennai'],\n",
       "      dtype=object)"
      ]
     },
     "execution_count": 35,
     "metadata": {},
     "output_type": "execute_result"
    }
   ],
   "source": [
    "flight_df['source_city'].unique()"
   ]
  },
  {
   "cell_type": "code",
   "execution_count": 37,
   "id": "58f5c8b2-2b45-417d-abb7-0c3e52be2257",
   "metadata": {},
   "outputs": [
    {
     "data": {
      "text/plain": [
       "array(['Mumbai', 'Bangalore', 'Kolkata', 'Hyderabad', 'Chennai', 'Delhi'],\n",
       "      dtype=object)"
      ]
     },
     "execution_count": 37,
     "metadata": {},
     "output_type": "execute_result"
    }
   ],
   "source": [
    "flight_df['destination_city'].unique()"
   ]
  },
  {
   "cell_type": "code",
   "execution_count": null,
   "id": "bec08d33-a5ce-4a2f-a32f-1d7dd632af3f",
   "metadata": {},
   "outputs": [],
   "source": []
  }
 ],
 "metadata": {
  "kernelspec": {
   "display_name": "Python 3 (ipykernel)",
   "language": "python",
   "name": "python3"
  },
  "language_info": {
   "codemirror_mode": {
    "name": "ipython",
    "version": 3
   },
   "file_extension": ".py",
   "mimetype": "text/x-python",
   "name": "python",
   "nbconvert_exporter": "python",
   "pygments_lexer": "ipython3",
   "version": "3.12.4"
  }
 },
 "nbformat": 4,
 "nbformat_minor": 5
}
